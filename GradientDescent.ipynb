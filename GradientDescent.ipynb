{
 "cells": [
  {
   "cell_type": "markdown",
   "metadata": {
    "colab_type": "text",
    "id": "KLWV3S_1utTn"
   },
   "source": [
    "## Gradient Descent using NumPy"
   ]
  },
  {
   "cell_type": "code",
   "execution_count": 1,
   "metadata": {
    "colab": {},
    "colab_type": "code",
    "id": "3f-68cRButTo"
   },
   "outputs": [],
   "source": [
    "import matplotlib.pyplot as plt\n",
    "import numpy as np\n",
    "import pandas as pd"
   ]
  },
  {
   "cell_type": "code",
   "execution_count": 2,
   "metadata": {
    "colab": {},
    "colab_type": "code",
    "id": "R5QFmp8VvJ8G"
   },
   "outputs": [],
   "source": [
    "# Put all dots into graph\n",
    "def plot_points(x, y):\n",
    "    admitted = x[np.argwhere(y==1)]\n",
    "    rejected = x[np.argwhere(y==0)]\n",
    "    plt.scatter([s[0][0] for s in rejected], [s[0][1] for s in rejected], s = 25, color = 'blue', edgecolor = 'k')\n",
    "    plt.scatter([s[0][0] for s in admitted], [s[0][1] for s in admitted], s = 25, color = 'red', edgecolor = 'k')\n",
    "\n",
    "def display(m, b, color='g--'):\n",
    "    plt.xlim(-0.05,1.05)\n",
    "    plt.ylim(-0.05,1.05)\n",
    "    x = np.arange(-10, 10, 0.1)\n",
    "    plt.plot(x, m*x+b, color)"
   ]
  },
  {
   "cell_type": "code",
   "execution_count": 3,
   "metadata": {
    "colab": {},
    "colab_type": "code",
    "id": "Bd-jpzOExZ00"
   },
   "outputs": [],
   "source": [
    "# Sigmoid Function\n",
    "def sigmoid(x):\n",
    "    return 1/(1+np.exp(-x))\n",
    "\n",
    "# Output (prediction) formula\n",
    "def output_formula(features, weights, bias):\n",
    "    return sigmoid(np.matmul(features,weights) + bias)\n",
    "\n",
    "# Error (log-loss) formula\n",
    "def error_formula(y, output):\n",
    "    return -y*np.log(output)-(1-y)*np.log(1-output)\n",
    "\n",
    "# Gradient descent step\n",
    "def update_weights(x, y, weights, bias, learnrate):\n",
    "    w = weights + learnrate*(y - output_formula(x, weights, bias))*x\n",
    "    b = bias + learnrate*(y - output_formula(x, weights, bias))\n",
    "    return w, b"
   ]
  },
  {
   "cell_type": "code",
   "execution_count": 4,
   "metadata": {
    "colab": {},
    "colab_type": "code",
    "id": "naga0Gwzxodl"
   },
   "outputs": [],
   "source": [
    "# Return two points to bild a line\n",
    "def twoPointsFromLine(W,b):\n",
    "    x1 = [0, 1]\n",
    "    x2 = []\n",
    "    x2.append((-b-x1[0]*W[0])/W[1])\n",
    "    x2.append((-b-x1[1]*W[0])/W[1])\n",
    "    return x1, x2"
   ]
  },
  {
   "cell_type": "code",
   "execution_count": 5,
   "metadata": {
    "colab": {},
    "colab_type": "code",
    "id": "qOnGkNuyxzyb"
   },
   "outputs": [],
   "source": [
    "# Output trained network (Weights, bias)\n",
    "def train(X, Y, learnrate, epochs):\n",
    "    m_x, n_x = X.shape\n",
    "    weights = np.random.normal(scale=1 / n_x**.5, size=n_x)\n",
    "    bias = 0\n",
    "    errors = []\n",
    "    loss = 1\n",
    "    n_loss = 0\n",
    "    # while(np.absolute(loss - n_loss) > 0.0000001):\n",
    "    for e in range(epochs):\n",
    "        loss = n_loss\n",
    "        for i in range(len(X)):\n",
    "            y_heat = output_formula(X[i], weights, bias)\n",
    "            err = error_formula(Y[i], y_heat)\n",
    "            weights, bias = update_weights(X[i], Y[i], weights, bias, learnrate)\n",
    "        n_loss = np.mean(error_formula(y, y_heat))\n",
    "    y_heat = output_formula(X, weights, bias)\n",
    "    predictions = y_heat > 0.5\n",
    "    accuracy = np.mean(predictions == y)\n",
    "    return weights, bias, accuracy"
   ]
  },
  {
   "cell_type": "code",
   "execution_count": 6,
   "metadata": {
    "colab": {
     "base_uri": "https://localhost:8080/",
     "height": 914
    },
    "colab_type": "code",
    "id": "vyGVNQ0outTt",
    "outputId": "fed1ea4b-07a5-4677-9124-84f2e9309ab3"
   },
   "outputs": [
    {
     "name": "stdout",
     "output_type": "stream",
     "text": [
      "Accuracy: 0.94\n"
     ]
    },
    {
     "data": {
      "image/png": "[encoded data removed]",
      "text/plain": [
       "<Figure size 432x288 with 1 Axes>"
      ]
     },
     "metadata": {
      "needs_background": "light"
     },
     "output_type": "display_data"
    }
   ],
   "source": [
    "#inicialize random value, number of epochs for trtaininfg and learnrate\n",
    "np.random.seed(7)\n",
    "epochs = 500\n",
    "learnrate = 0.001\n",
    "\n",
    "# Read data and store it is Coordinates(x) and Lables(y) \n",
    "data = pd.read_csv('data.csv', header=None)\n",
    "X = np.array(data[[0,1]])\n",
    "y = np.array(data[2])\n",
    "\n",
    "# put labled dots on graph\n",
    "plot_points(X,y)\n",
    "\n",
    "# train model and accuracy\n",
    "W, b, accuracy = train(X, y, learnrate, epochs)\n",
    "\n",
    "# Get points to create final line\n",
    "x1, x2 = twoPointsFromLine(W,b)\n",
    "\n",
    "print(f\"Accuracy: {accuracy}\")\n",
    "\n",
    "# Show graph and final line(model)\n",
    "plt.plot(x1, x2)\n",
    "plt.show()\n",
    "\n",
    "\n"
   ]
  },
  {
   "cell_type": "code",
   "execution_count": null,
   "metadata": {
    "colab": {},
    "colab_type": "code",
    "id": "96mgr-zHutTz"
   },
   "outputs": [],
   "source": []
  }
 ],
 "metadata": {
  "colab": {
   "collapsed_sections": [],
   "name": "Untitled1.ipynb",
   "provenance": [],
   "version": "0.3.2"
  },
  "kernelspec": {
   "display_name": "Python 3",
   "language": "python",
   "name": "python3"
  },
  "language_info": {
   "codemirror_mode": {
    "name": "ipython",
    "version": 3
   },
   "file_extension": ".py",
   "mimetype": "text/x-python",
   "name": "python",
   "nbconvert_exporter": "python",
   "pygments_lexer": "ipython3",
   "version": "3.7.2"
  }
 },
 "nbformat": 4,
 "nbformat_minor": 1
}
